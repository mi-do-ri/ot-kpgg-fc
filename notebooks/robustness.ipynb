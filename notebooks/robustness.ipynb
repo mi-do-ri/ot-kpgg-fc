{
 "cells": [
  {
   "cell_type": "code",
   "execution_count": 5,
   "metadata": {},
   "outputs": [
    {
     "name": "stdout",
     "output_type": "stream",
     "text": [
      "f:\\DS Lab\\OT\n"
     ]
    }
   ],
   "source": [
    "%cd .."
   ]
  },
  {
   "cell_type": "code",
   "execution_count": 7,
   "metadata": {},
   "outputs": [],
   "source": [
    "# Python ≥3.5 is required\n",
    "import sys\n",
    "assert sys.version_info >= (3, 5)\n",
    "\n",
    "# Disable warnings\n",
    "import warnings\n",
    "warnings.filterwarnings('ignore')\n",
    "\n",
    "# Scikit-Learn ≥0.20 is required\n",
    "import sklearn\n",
    "assert sklearn.__version__ >= \"0.20\"\n",
    "\n",
    "# Common imports\n",
    "import json\n",
    "import pandas as pd\n",
    "import numpy as np\n",
    "import scipy\n",
    "import os\n",
    "import ot\n",
    "from optimal_transport.models import KeypointFOT, FOT, LOT, EMD\n",
    "from optimal_transport.experiments import OutlierRate, ClusterMismatch, Dimensionality\n",
    "from typing import Tuple, Optional, List, Union, Dict\n",
    "\n",
    "# To make this notebook's output stable across runs\n",
    "np.random.seed(42)\n",
    "\n",
    "# To plot pretty figures\n",
    "%matplotlib inline\n",
    "import matplotlib as mpl\n",
    "import matplotlib.pyplot as plt\n",
    "mpl.rc('axes', labelsize=14)\n",
    "mpl.rc('xtick', labelsize=12)\n",
    "mpl.rc('ytick', labelsize=12)\n",
    "import seaborn as sns"
   ]
  },
  {
   "cell_type": "code",
   "execution_count": 8,
   "metadata": {},
   "outputs": [
    {
     "ename": "AttributeError",
     "evalue": "'KeypointFOT' object has no attribute 'f'",
     "output_type": "error",
     "traceback": [
      "\u001b[1;31m---------------------------------------------------------------------------\u001b[0m",
      "\u001b[1;31mAttributeError\u001b[0m                            Traceback (most recent call last)",
      "Cell \u001b[1;32mIn[8], line 21\u001b[0m\n\u001b[0;32m     18\u001b[0m mean_t[:, \u001b[38;5;241m0\u001b[39m] \u001b[38;5;241m=\u001b[39m \u001b[38;5;241m-\u001b[39mnp\u001b[38;5;241m.\u001b[39mrandom\u001b[38;5;241m.\u001b[39muniform(\u001b[38;5;241m1\u001b[39m, \u001b[38;5;241m2\u001b[39m, size\u001b[38;5;241m=\u001b[39mk)\n\u001b[0;32m     20\u001b[0m experiment \u001b[38;5;241m=\u001b[39m Dimensionality(model\u001b[38;5;241m=\u001b[39mmodels, log_dir\u001b[38;5;241m=\u001b[39m\u001b[38;5;124m\"\u001b[39m\u001b[38;5;124mlogs\u001b[39m\u001b[38;5;124m\"\u001b[39m)\n\u001b[1;32m---> 21\u001b[0m results \u001b[38;5;241m=\u001b[39m \u001b[43mexperiment\u001b[49m\u001b[43m(\u001b[49m\u001b[43mnoise_level\u001b[49m\u001b[38;5;241;43m=\u001b[39;49m\u001b[38;5;241;43m0.5\u001b[39;49m\u001b[43m,\u001b[49m\u001b[43m \u001b[49m\u001b[43mmax_projected_dim\u001b[49m\u001b[38;5;241;43m=\u001b[39;49m\u001b[38;5;241;43m100\u001b[39;49m\u001b[43m,\u001b[49m\u001b[43m \u001b[49m\u001b[43mfreq_projected_dim\u001b[49m\u001b[38;5;241;43m=\u001b[39;49m\u001b[38;5;241;43m5\u001b[39;49m\u001b[43m,\u001b[49m\u001b[43m \u001b[49m\u001b[43mhyperplane_dim\u001b[49m\u001b[38;5;241;43m=\u001b[39;49m\u001b[38;5;241;43m5\u001b[39;49m\u001b[43m,\u001b[49m\n\u001b[0;32m     22\u001b[0m \u001b[43m                     \u001b[49m\u001b[43mn_components\u001b[49m\u001b[38;5;241;43m=\u001b[39;49m\u001b[43mk\u001b[49m\u001b[43m,\u001b[49m\u001b[43m \u001b[49m\u001b[43mcluster_samples\u001b[49m\u001b[38;5;241;43m=\u001b[39;49m\u001b[38;5;241;43m100\u001b[39;49m\u001b[43m,\u001b[49m\u001b[43m \u001b[49m\u001b[43mn_keypoints\u001b[49m\u001b[38;5;241;43m=\u001b[39;49m\u001b[43mn_keypoints\u001b[49m\u001b[43m,\u001b[49m\u001b[43m \u001b[49m\n\u001b[0;32m     23\u001b[0m \u001b[43m                     \u001b[49m\u001b[43msrc_properties\u001b[49m\u001b[38;5;241;43m=\u001b[39;49m\u001b[43m{\u001b[49m\u001b[38;5;124;43m\"\u001b[39;49m\u001b[38;5;124;43mmeans\u001b[39;49m\u001b[38;5;124;43m\"\u001b[39;49m\u001b[43m:\u001b[49m\u001b[43m \u001b[49m\u001b[43mmean_s\u001b[49m\u001b[43m,\u001b[49m\u001b[43m \u001b[49m\u001b[38;5;124;43m\"\u001b[39;49m\u001b[38;5;124;43mcov_scale\u001b[39;49m\u001b[38;5;124;43m\"\u001b[39;49m\u001b[43m:\u001b[49m\u001b[43m \u001b[49m\u001b[38;5;241;43m0.1\u001b[39;49m\u001b[43m}\u001b[49m\u001b[43m,\u001b[49m\n\u001b[0;32m     24\u001b[0m \u001b[43m                     \u001b[49m\u001b[43mtrg_properties\u001b[49m\u001b[38;5;241;43m=\u001b[39;49m\u001b[43m{\u001b[49m\u001b[38;5;124;43m\"\u001b[39;49m\u001b[38;5;124;43mmeans\u001b[39;49m\u001b[38;5;124;43m\"\u001b[39;49m\u001b[43m:\u001b[49m\u001b[43m \u001b[49m\u001b[43mmean_t\u001b[49m\u001b[43m,\u001b[49m\u001b[43m \u001b[49m\u001b[38;5;124;43m\"\u001b[39;49m\u001b[38;5;124;43mcov_scale\u001b[39;49m\u001b[38;5;124;43m\"\u001b[39;49m\u001b[43m:\u001b[49m\u001b[43m \u001b[49m\u001b[38;5;241;43m0.1\u001b[39;49m\u001b[43m}\u001b[49m\n\u001b[0;32m     25\u001b[0m \u001b[43m                     \u001b[49m\u001b[43m)\u001b[49m\n",
      "File \u001b[1;32mf:\\DS Lab\\OT\\ot-kpgg-fc\\optimal_transport\\experiments\\robustness.py:168\u001b[0m, in \u001b[0;36mDimensionality.__call__\u001b[1;34m(self, noise_level, max_projected_dim, freq_projected_dim, hyperplane_dim, n_components, cluster_samples, n_keypoints, **kwargs)\u001b[0m\n\u001b[0;32m    166\u001b[0m \u001b[38;5;28;01mfor\u001b[39;00m model_id, model \u001b[38;5;129;01min\u001b[39;00m \u001b[38;5;28mself\u001b[39m\u001b[38;5;241m.\u001b[39mmodel\u001b[38;5;241m.\u001b[39mitems():\n\u001b[0;32m    167\u001b[0m     start \u001b[38;5;241m=\u001b[39m time\u001b[38;5;241m.\u001b[39mtime()\n\u001b[1;32m--> 168\u001b[0m     acc \u001b[38;5;241m=\u001b[39m \u001b[38;5;28;43mself\u001b[39;49m\u001b[38;5;241;43m.\u001b[39;49m\u001b[43mrun\u001b[49m\u001b[43m(\u001b[49m\u001b[43mXs_\u001b[49m\u001b[43m,\u001b[49m\u001b[43m \u001b[49m\u001b[43mXt_\u001b[49m\u001b[43m,\u001b[49m\u001b[43m \u001b[49m\u001b[43mys\u001b[49m\u001b[43m,\u001b[49m\u001b[43m \u001b[49m\u001b[43myt\u001b[49m\u001b[43m,\u001b[49m\u001b[43m \u001b[49m\u001b[43mmodel\u001b[49m\u001b[43m,\u001b[49m\u001b[43m \u001b[49m\u001b[43mK\u001b[49m\u001b[38;5;241;43m=\u001b[39;49m\u001b[43mK\u001b[49m\u001b[43m)\u001b[49m\n\u001b[0;32m    169\u001b[0m     \u001b[38;5;28mself\u001b[39m\u001b[38;5;241m.\u001b[39mrecord_[\u001b[38;5;28mself\u001b[39m\u001b[38;5;241m.\u001b[39mexp_name][model_id][\u001b[38;5;124m\"\u001b[39m\u001b[38;5;124mdimension\u001b[39m\u001b[38;5;124m\"\u001b[39m]\u001b[38;5;241m.\u001b[39mappend(prj_dim)\n\u001b[0;32m    170\u001b[0m     \u001b[38;5;28mself\u001b[39m\u001b[38;5;241m.\u001b[39mrecord_[\u001b[38;5;28mself\u001b[39m\u001b[38;5;241m.\u001b[39mexp_name][model_id][\u001b[38;5;124m\"\u001b[39m\u001b[38;5;124maccuracy\u001b[39m\u001b[38;5;124m\"\u001b[39m]\u001b[38;5;241m.\u001b[39mappend(acc)\n",
      "File \u001b[1;32mf:\\DS Lab\\OT\\ot-kpgg-fc\\optimal_transport\\experiments\\robustness.py:33\u001b[0m, in \u001b[0;36mRobustness.run\u001b[1;34m(self, xs, xt, ys, yt, model, n_neighbors, **kwargs)\u001b[0m\n\u001b[0;32m     31\u001b[0m knn \u001b[38;5;241m=\u001b[39m KNN(n_neighbors)\n\u001b[0;32m     32\u001b[0m knn\u001b[38;5;241m.\u001b[39mfit(xt, yt)\n\u001b[1;32m---> 33\u001b[0m model\u001b[38;5;241m.\u001b[39mfit(xs, xt, a, b, \u001b[38;5;241m*\u001b[39m\u001b[38;5;241m*\u001b[39mkwargs)\n\u001b[0;32m     34\u001b[0m xs_t \u001b[38;5;241m=\u001b[39m model\u001b[38;5;241m.\u001b[39mtransport(xs, xt)\n\u001b[0;32m     35\u001b[0m ys_pred \u001b[38;5;241m=\u001b[39m knn\u001b[38;5;241m.\u001b[39mpredict(xs_t)\n",
      "File \u001b[1;32mf:\\DS Lab\\OT\\ot-kpgg-fc\\optimal_transport\\models\\factored.py:65\u001b[0m, in \u001b[0;36mKeypointFOT.fit\u001b[1;34m(self, xs, xt, a, b, K, **kwargs)\u001b[0m\n\u001b[0;32m     62\u001b[0m Gs \u001b[38;5;241m=\u001b[39m \u001b[38;5;28mself\u001b[39m\u001b[38;5;241m.\u001b[39m_guide_matrix(xs, z, I, L)\n\u001b[0;32m     63\u001b[0m Gt \u001b[38;5;241m=\u001b[39m \u001b[38;5;28mself\u001b[39m\u001b[38;5;241m.\u001b[39m_guide_matrix(z, xt, L, J)\n\u001b[1;32m---> 65\u001b[0m Ps \u001b[38;5;241m=\u001b[39m \u001b[38;5;28;43mself\u001b[39;49m\u001b[38;5;241;43m.\u001b[39;49m\u001b[43m_update_plans\u001b[49m\u001b[43m(\u001b[49m\u001b[43mCs\u001b[49m\u001b[43m,\u001b[49m\u001b[43m \u001b[49m\u001b[43mCz\u001b[49m\u001b[43m,\u001b[49m\u001b[43m \u001b[49m\u001b[43ma\u001b[49m\u001b[43m,\u001b[49m\u001b[43m \u001b[49m\u001b[43mh\u001b[49m\u001b[43m,\u001b[49m\u001b[43m \u001b[49m\u001b[43mGs\u001b[49m\u001b[43m,\u001b[49m\u001b[43m \u001b[49m\u001b[43mMs\u001b[49m\u001b[43m)\u001b[49m\n\u001b[0;32m     66\u001b[0m Pt \u001b[38;5;241m=\u001b[39m \u001b[38;5;28mself\u001b[39m\u001b[38;5;241m.\u001b[39m_update_plans(Cz, Ct, h, b, Gt, Mt)\n\u001b[0;32m     67\u001b[0m z \u001b[38;5;241m=\u001b[39m \u001b[38;5;28mself\u001b[39m\u001b[38;5;241m.\u001b[39m_update_anchors(xs, xt, Ps, Pt)\n",
      "File \u001b[1;32mf:\\DS Lab\\OT\\ot-kpgg-fc\\optimal_transport\\models\\factored.py:187\u001b[0m, in \u001b[0;36mKeypointFOT._update_plans\u001b[1;34m(self, Cx, Cy, p, q, G, mask)\u001b[0m\n\u001b[0;32m    184\u001b[0m \u001b[38;5;28;01mdef\u001b[39;00m \u001b[38;5;21mdf\u001b[39m(G):\n\u001b[0;32m    185\u001b[0m     \u001b[38;5;28;01mreturn\u001b[39;00m \u001b[38;5;28mself\u001b[39m\u001b[38;5;241m.\u001b[39m_gwggrad(constC, hCx, hCy, G)\n\u001b[1;32m--> 187\u001b[0m P \u001b[38;5;241m=\u001b[39m \u001b[38;5;28;43mself\u001b[39;49m\u001b[38;5;241;43m.\u001b[39;49m\u001b[43m_cg\u001b[49m\u001b[43m(\u001b[49m\u001b[43mp\u001b[49m\u001b[43m,\u001b[49m\u001b[43m \u001b[49m\u001b[43mq\u001b[49m\u001b[43m,\u001b[49m\u001b[43m \u001b[49m\u001b[43mCx\u001b[49m\u001b[43m,\u001b[49m\u001b[43m \u001b[49m\u001b[43mCy\u001b[49m\u001b[43m,\u001b[49m\u001b[43m \u001b[49m\u001b[43mconstC\u001b[49m\u001b[43m,\u001b[49m\u001b[43m \u001b[49m\u001b[43mf\u001b[49m\u001b[43m,\u001b[49m\u001b[43m \u001b[49m\u001b[43mdf\u001b[49m\u001b[43m,\u001b[49m\u001b[43m \u001b[49m\u001b[43mG0\u001b[49m\u001b[43m,\u001b[49m\u001b[43m \u001b[49m\u001b[43mmask\u001b[49m\u001b[43m,\u001b[49m\u001b[43m \u001b[49m\u001b[43mG\u001b[49m\u001b[43m)\u001b[49m\n\u001b[0;32m    189\u001b[0m \u001b[38;5;28;01mreturn\u001b[39;00m P\n",
      "File \u001b[1;32mf:\\DS Lab\\OT\\ot-kpgg-fc\\optimal_transport\\models\\factored.py:208\u001b[0m, in \u001b[0;36mKeypointFOT._cg\u001b[1;34m(self, p, q, Cx, Cy, constC, f, df, G0, mask, G)\u001b[0m\n\u001b[0;32m    205\u001b[0m \u001b[38;5;28;01mdef\u001b[39;00m \u001b[38;5;21mcost_mask\u001b[39m(G0):\n\u001b[0;32m    206\u001b[0m     \u001b[38;5;28;01mreturn\u001b[39;00m cost(mask \u001b[38;5;241m*\u001b[39m G0)\n\u001b[1;32m--> 208\u001b[0m f_val \u001b[38;5;241m=\u001b[39m \u001b[43mcost_mask\u001b[49m\u001b[43m(\u001b[49m\u001b[43mG0\u001b[49m\u001b[43m)\u001b[49m\n\u001b[0;32m    209\u001b[0m it \u001b[38;5;241m=\u001b[39m \u001b[38;5;241m0\u001b[39m\n\u001b[0;32m    210\u001b[0m \u001b[38;5;28;01mwhile\u001b[39;00m loop:\n",
      "File \u001b[1;32mf:\\DS Lab\\OT\\ot-kpgg-fc\\optimal_transport\\models\\factored.py:206\u001b[0m, in \u001b[0;36mKeypointFOT._cg.<locals>.cost_mask\u001b[1;34m(G0)\u001b[0m\n\u001b[0;32m    205\u001b[0m \u001b[38;5;28;01mdef\u001b[39;00m \u001b[38;5;21mcost_mask\u001b[39m(G0):\n\u001b[1;32m--> 206\u001b[0m     \u001b[38;5;28;01mreturn\u001b[39;00m \u001b[43mcost\u001b[49m\u001b[43m(\u001b[49m\u001b[43mmask\u001b[49m\u001b[43m \u001b[49m\u001b[38;5;241;43m*\u001b[39;49m\u001b[43m \u001b[49m\u001b[43mG0\u001b[49m\u001b[43m)\u001b[49m\n",
      "File \u001b[1;32mf:\\DS Lab\\OT\\ot-kpgg-fc\\optimal_transport\\models\\factored.py:203\u001b[0m, in \u001b[0;36mKeypointFOT._cg.<locals>.cost\u001b[1;34m(G0)\u001b[0m\n\u001b[0;32m    202\u001b[0m \u001b[38;5;28;01mdef\u001b[39;00m \u001b[38;5;21mcost\u001b[39m(G0):\n\u001b[1;32m--> 203\u001b[0m     \u001b[38;5;28;01mreturn\u001b[39;00m \u001b[38;5;28;43mself\u001b[39;49m\u001b[38;5;241;43m.\u001b[39;49m\u001b[43mf\u001b[49m(G0) \u001b[38;5;241m+\u001b[39m (\u001b[38;5;241m1.0\u001b[39m \u001b[38;5;241m-\u001b[39m \u001b[38;5;28mself\u001b[39m\u001b[38;5;241m.\u001b[39malpha) \u001b[38;5;241m*\u001b[39m np\u001b[38;5;241m.\u001b[39msum(mask \u001b[38;5;241m*\u001b[39m G \u001b[38;5;241m*\u001b[39m G0)\n",
      "\u001b[1;31mAttributeError\u001b[0m: 'KeypointFOT' object has no attribute 'f'"
     ]
    }
   ],
   "source": [
    "#@title Dimensionality\n",
    "n_anchors = 4\n",
    "n_keypoints = 4\n",
    "k = 4\n",
    "models = {\n",
    "    \"KeypointFOT\": KeypointFOT(n_free_anchors=n_anchors, guide_mixing=0.95, stop_thr=1e-5,\n",
    "                               sinkhorn_reg=0.005, temperature=0.1, div_term=1e-10, max_iters=200),\n",
    "    \"FOT\": FOT(n_anchors=n_anchors, sinkhorn_reg=0.1),\n",
    "    \"LOT\": LOT(None, n_source_anchors=n_anchors, n_target_anchors=n_anchors, epsilon=100, epsilon_z=100),\n",
    "    \"OT\": EMD(),\n",
    "}\n",
    "\n",
    "delta = 1\n",
    "mean_s = np.concatenate([np.random.uniform(1, 2, size=k)[:, None], \n",
    "                        np.arange((-k // 2 + 1)*delta, (k // 2 + 1)*delta, delta)[:, None], \n",
    "                        np.random.rand(k, 5-2)], axis=1)\n",
    "mean_t = mean_s.copy()\n",
    "mean_t[:, 0] = -np.random.uniform(1, 2, size=k)\n",
    "\n",
    "experiment = Dimensionality(model=models, log_dir=\"logs\")\n",
    "results = experiment(noise_level=0.5, max_projected_dim=100, freq_projected_dim=5, hyperplane_dim=5,\n",
    "                     n_components=k, cluster_samples=100, n_keypoints=n_keypoints, \n",
    "                     src_properties={\"means\": mean_s, \"cov_scale\": 0.1},\n",
    "                     trg_properties={\"means\": mean_t, \"cov_scale\": 0.1}\n",
    "                     )"
   ]
  },
  {
   "cell_type": "code",
   "execution_count": null,
   "metadata": {},
   "outputs": [],
   "source": [
    "\n",
    "#@title Outlier rate\n",
    "n_anchors = 4\n",
    "n_keypoints = 4\n",
    "d = 30\n",
    "k = 4\n",
    "models = {\n",
    "    \"KeypointFOT\": KeypointFOT(n_free_anchors=n_anchors, guide_mixing=0.95, stop_thr=1e-5,\n",
    "                               sinkhorn_reg=0.005, temperature=0.1, div_term=1e-10, max_iters=200),\n",
    "    \"FOT\": FOT(n_anchors=n_anchors, sinkhorn_reg=0.1),\n",
    "    \"LOT\": LOT(None, n_source_anchors=n_anchors, n_target_anchors=n_anchors, epsilon=100, epsilon_z=100),\n",
    "    \"OT\": EMD(),\n",
    "}\n",
    "\n",
    "delta = 1\n",
    "mean_s = np.concatenate([np.random.uniform(1, 2, size=k)[:, None], \n",
    "                        np.arange((-k // 2 + 1)*delta, (k // 2 + 1)*delta, delta)[:, None], \n",
    "                        np.random.rand(k, d-2)], axis=1)\n",
    "mean_t = mean_s.copy()\n",
    "mean_t[:, 0] = -np.random.uniform(1, 2, size=k)\n",
    "\n",
    "experiment = OutlierRate(model=models, log_dir=\"logs\")\n",
    "results = experiment(max_noise_ratio=1, freq_noise_ratio=0.1, hyperplane_dim=d, \n",
    "                     cluster_samples=100, n_keypoints=n_keypoints, n_components=k,\n",
    "                     src_properties={\"means\": mean_s, \"cov_scale\": 0.1},\n",
    "                     trg_properties={\"means\": mean_t, \"cov_scale\": 0.1}\n",
    "                    )"
   ]
  },
  {
   "cell_type": "code",
   "execution_count": null,
   "metadata": {},
   "outputs": [],
   "source": [
    "\n",
    "#@title ClusterMismatch\n",
    "n_anchors = 4\n",
    "n_keypoints = 10\n",
    "d = 30\n",
    "k = 10\n",
    "models = {\n",
    "    \"KeypointFOT\": KeypointFOT(n_free_anchors=n_anchors, guide_mixing=0.95, stop_thr=1e-5,\n",
    "                               sinkhorn_reg=0.005, temperature=0.1, div_term=1e-10, max_iters=200),\n",
    "    \"FOT\": FOT(n_anchors=n_anchors, sinkhorn_reg=0.1),\n",
    "    \"LOT\": LOT(None, n_source_anchors=n_anchors, n_target_anchors=n_anchors, epsilon=100, epsilon_z=100),\n",
    "    \"OT\": EMD(),\n",
    "}\n",
    "\n",
    "delta = 1\n",
    "mean_s = np.concatenate([np.random.uniform(1, 2, size=k)[:, None], \n",
    "                        np.arange((-k // 2 + 1)*delta, (k // 2 + 1)*delta, delta)[:, None], \n",
    "                        np.random.rand(k, d-2)], axis=1)\n",
    "mean_t = mean_s.copy()\n",
    "mean_t[:, 0] = -np.random.uniform(1, 2, size=k)\n",
    "\n",
    "experiment = ClusterMismatch(model=models, log_dir=\"logs\")\n",
    "experiment(min_source_components=2, freq_components=1, target_components=k, \n",
    "           hyperplane_dim=d, cluster_samples=100, n_keypoints=n_keypoints,\n",
    "           src_properties={\"means\": mean_s, \"cov_scale\": 0.1},\n",
    "           trg_properties={\"means\": mean_t, \"cov_scale\": 0.1},\n",
    "           )"
   ]
  }
 ],
 "metadata": {
  "kernelspec": {
   "display_name": "Python 3",
   "language": "python",
   "name": "python3"
  },
  "language_info": {
   "codemirror_mode": {
    "name": "ipython",
    "version": 3
   },
   "file_extension": ".py",
   "mimetype": "text/x-python",
   "name": "python",
   "nbconvert_exporter": "python",
   "pygments_lexer": "ipython3",
   "version": "3.9.11"
  }
 },
 "nbformat": 4,
 "nbformat_minor": 2
}
